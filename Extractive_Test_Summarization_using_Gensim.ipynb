{
  "nbformat": 4,
  "nbformat_minor": 0,
  "metadata": {
    "colab": {
      "name": "Extractive-Test-Summarization-using_Gensim.ipynb",
      "provenance": []
    },
    "kernelspec": {
      "name": "python3",
      "display_name": "Python 3"
    }
  },
  "cells": [
    {
      "cell_type": "markdown",
      "metadata": {
        "id": "jPUgYIz23eSf",
        "colab_type": "text"
      },
      "source": [
        "#Summarizes a Wikipedia article based on (a) ratio and (b) word count.\n",
        "\n",
        "The algorithm implemented in the gensim library, called “TextRank”, which is based on PageRank algorithm for ranking search results.\n",
        "Help from @geeks for geeks....."
      ]
    },
    {
      "cell_type": "code",
      "metadata": {
        "id": "xWgk3SmE4HlA",
        "colab_type": "code",
        "colab": {}
      },
      "source": [
        "#Using Genism liabary and Summarization tool for varied textual applications that aims to highlight important information within a large corpus\n",
        "\n",
        "from gensim.summarization.summarizer import summarize_corpus\n",
        "from gensim.summarization import keywords\n"
      ],
      "execution_count": 0,
      "outputs": []
    },
    {
      "cell_type": "code",
      "metadata": {
        "id": "W4GIAKQk5lwV",
        "colab_type": "code",
        "colab": {
          "base_uri": "https://localhost:8080/",
          "height": 326
        },
        "outputId": "41a8628e-5e0a-4722-dba5-4564da0a2157"
      },
      "source": [
        "#import wkipedia for geting wiki content\n",
        "!pip show wikipedia\n",
        "!pip install --upgrade wikipedia\n",
        "import wikipedia\n"
      ],
      "execution_count": 28,
      "outputs": [
        {
          "output_type": "stream",
          "text": [
            "Name: wikipedia\n",
            "Version: 1.4.0\n",
            "Summary: Wikipedia API for Python\n",
            "Home-page: https://github.com/goldsmith/Wikipedia\n",
            "Author: Jonathan Goldsmith\n",
            "Author-email: jhghank@gmail.com\n",
            "License: MIT\n",
            "Location: /usr/local/lib/python3.6/dist-packages\n",
            "Requires: beautifulsoup4, requests\n",
            "Required-by: \n",
            "Requirement already up-to-date: wikipedia in /usr/local/lib/python3.6/dist-packages (1.4.0)\n",
            "Requirement already satisfied, skipping upgrade: beautifulsoup4 in /usr/local/lib/python3.6/dist-packages (from wikipedia) (4.6.3)\n",
            "Requirement already satisfied, skipping upgrade: requests<3.0.0,>=2.0.0 in /usr/local/lib/python3.6/dist-packages (from wikipedia) (2.21.0)\n",
            "Requirement already satisfied, skipping upgrade: certifi>=2017.4.17 in /usr/local/lib/python3.6/dist-packages (from requests<3.0.0,>=2.0.0->wikipedia) (2019.11.28)\n",
            "Requirement already satisfied, skipping upgrade: chardet<3.1.0,>=3.0.2 in /usr/local/lib/python3.6/dist-packages (from requests<3.0.0,>=2.0.0->wikipedia) (3.0.4)\n",
            "Requirement already satisfied, skipping upgrade: urllib3<1.25,>=1.21.1 in /usr/local/lib/python3.6/dist-packages (from requests<3.0.0,>=2.0.0->wikipedia) (1.24.3)\n",
            "Requirement already satisfied, skipping upgrade: idna<2.9,>=2.5 in /usr/local/lib/python3.6/dist-packages (from requests<3.0.0,>=2.0.0->wikipedia) (2.8)\n"
          ],
          "name": "stdout"
        }
      ]
    },
    {
      "cell_type": "code",
      "metadata": {
        "id": "IKDysSwsB2ae",
        "colab_type": "code",
        "colab": {
          "base_uri": "https://localhost:8080/",
          "height": 870
        },
        "outputId": "b14e3705-d5c8-481e-8f43-2015301b29e1"
      },
      "source": [
        "#get wiki content for searching \"Mushfiqur Rahim\"\n",
        "wiki_search = wikipedia.page(\"Mushfiqur Rahim\")\n",
        "content_url = wiki_search.url\n",
        "print(content_url)\n",
        "wiki_content = wiki_search.content\n",
        "print(wiki_content)"
      ],
      "execution_count": 57,
      "outputs": [
        {
          "output_type": "stream",
          "text": [
            "https://en.wikipedia.org/wiki/Mushfiqur_Rahim\n",
            "Mushfiqur Rahim (Bengali: মুশফিকুর রহিম; born 9 June 1987) is a Bangladeshi cricketer and the former captain of the Bangladesh national cricket team. Between August 2009 and December 2010 Rahim served as Bangladesh's vice-captain, across all formats. He was ranked as one of the world's most famous athletes by ESPN \"WORLD FAME 100\" in 2019. At domestic level he represents Rajshahi Division and captains Sylhet Super Stars. According to Jamie Siddons in 2010, the former coach of Bangladesh, Rahim's batting is so versatile that he can bat anywhere in the top order, from one to six.In November 2018, during the second Test against Zimbabwe, he became the first wicket-keeper to score two double centuries in Tests. He finished his innings on 219 not out, the highest individual score by a Bangladesh batsman in Test cricket. He faced 421 balls and spent 589 minutes at the crease during the innings, a record for a Bangladesh batsman in a Test innings. Later the same month, against the West Indies, he became the second batsman for Bangladesh to score 4,000 runs in Tests. He holds the record for highest score by a test Bangladesh batsman.\n",
            "\n",
            "\n",
            "== Personal life ==\n",
            "Mushfiqur Rahim was born on 9 June 1987 in Bogra, Bangladesh. His parents are Mahbub Habib and Rahima Khatun. He finished his secondary schooling at Bogra Zilla School. In between playing cricket, he studied history at the Jahangirnagar University. He sat his master's degree examinations in 2012.Now he is a PhD researcher in the same University. Rahim is the biggest fan of Spanish football team FC Barcelona.\n",
            "\n",
            "\n",
            "== Early career ==\n",
            "Before playing for the national team, Rahim played for Bangladesh Under-19s. He represented them in three Youth Tests and 18 Youth One Day Internationals (ODIs) between 2004 and 2006, averaging 31.75 and 36.00 with the bat in the respective formats. Rahim trained at the Bangladesh Institute of Sports.\n",
            "\n",
            "During the 2006 U-19 Cricket World Cup, hosted by Sri Lanka in February, Rahim captained the Bangladesh side which included future international players Shakib Al Hasan and Tamim Iqbal among others. Rahim was one of two players at the tournament with Test-match experience. Under his guidance Bangladesh reached the quarter finals of the tournament. Later that month Rahim was recalled to the senior Test squad for the first time since the England tour in 2005. He was selected as a specialist batsmen, with Khaled Mashud chosen as the wicket-keeper for the series against Sri Lanka.\n",
            "\n",
            "\n",
            "== Domestic and T20 franchise career ==\n",
            "In December 2010, Rahim recorded his best score in a one-day match. Playing for Rajshahi in the National Cricket League, he scored 114 from 120 deliveries as his team lost by 8 runs.The Bangladesh Cricket Board founded the six-team Bangladesh Premier League in 2012, a twenty20 tournament to be held in February that year. The BCB made Mushfiq the 'icon player' for Duronto Rajshahi. Under his leadership Duronto overcame a weak start to progress to the semi-finals where they lost to Barisal Burners; Rahim contributed 234 runs from 11 matches.In September 2018, he was named in Nangarhar's squad in the first edition of the Afghanistan Premier League tournament.In October 2018, he was named in the squad for the Chittagong Vikings team, following the draft for the 2018–19 Bangladesh Premier League. He was the leading run-scorer for the team in the tournament, with 426 runs in thirteen matches. In November 2019, he was selected to play for the Khulna Tigers in the 2019–20 Bangladesh Premier League.\n",
            "\n",
            "\n",
            "== International career ==\n",
            "Rahim was selected for Bangladesh's tour of England in 2005. It was Bangladesh's first tour of England, where they faced unfamiliar conditions and the batsmen struggled against seam bowling and uneven bounce throughout the series. Mushfiqur adapted his batting style in the warm up matches, \"consistently playing late and straight\" according to Wisden, and managed to score 63 against Sussex and scored 115 not out against Northamptonshire in the warm up matches.Although initially named in the squad as a part-time wicket-keeper, his performances in the warm up matches led to his selection for the first Test at Lord's as a specialist batsman as well. The 17-year-old Rahim scored 19 in the first innings and was one of just three batsman to reach double figures as Bangladesh were dismissed for 108. After twisting his ankle, he did not play any further in the tour.Rahim was included in Bangladesh's squad to tour Zimbabwe for five ODIs in 2006. He was one of three uncapped ODI players included in the squad alongside all-rounders Farhad Reza and Shakib Al Hasan. He scored his maiden half-century at Harare against Zimbabwe.His good performances led him to picked as the first-choice wicket-keeper ahead of Khaled Mashud for the World Cup in the West Indies.Rahim was recalled for the second Test against Sri Lanka in July 2007, replacing Mashud. Although Bangladesh lost by an innings and 90 runs, Rahim combined with Mohammad Ashraful – the new captain – to score a record 191 for Bangladesh's sixth-wicket partnership. In December 2007, the Bangladesh Cricket Board (BCB) granted Rahim a one-year grade B (third tier) contract, one of 22 central contracts with the Board at the time.Following the 2007 ICC Cricket World Cup, Rahim endured a series of poor scores, including five innings in which he amassed four runs altogether. As a result, when South Africa toured in March for three ODIs and Bangladesh went to Pakistan for five ODIs the next month, Rahim was dropped in favour of Dhiman Ghosh.Rahim was recalled to the squad for a tri-series with Pakistan and India and the 2008 Asia Cup. When 17 contracts were announced in April 2009, Rahim's was renewed, marking Rahim as Bangladesh's first choice 'keeper.\n",
            "\n",
            "\n",
            "=== Vice-captaincy ===\n",
            "Rahim was appointed vice-captain for Bangladesh's tour of Zimbabwe in August 2009. The position was vacated as the previous holder, Shakib Al Hasan, was filling-in as captain for the injured Mashrafe Mortaza. Bangladesh won the five match ODI series 4–1. In the final ODI, Rahim scored 98, beating his previous highest score in list A matches of 58, to help his team to victory. With 169 runs in the series at an average of 56.33, Rahim finishes the tour as Bangladesh's fourth-highest run scorer.\n",
            "\n",
            "Rahim retained the vice-captaincy for the home Test series against India in January and February 2010. On 21 January, in the fifth day of the first Test, he scored his maiden Test century and the fastest by a Bangladeshi in Test cricket, off only 112 balls as Bangladesh delayed an Indian victory, being the last man out as India won by 113 runs. England toured Bangladesh in February and March for two Tests and three ODIs, where Bangladesh lost all two formats. In the series, Rahim was his team's second-highest run-scorer. He scored two half-centuries in the first Test, becoming the 6th Bangladesh batsman to perform the feat.Having impressed at home, Rahim's performance in the return tour in England in May was expected to be crucial for the rankings. In the tour, Rahim could managed 40 runs from two Tests as Bangladesh's batsmen struggled in English conditions and slumped to a 2–0 defeat. In the first ODI of the tour Rahim was struck in the face while keeping wicket to spinner Faisal Hossain. An x-ray revealed no fractures, however as a precaution he was rested for a week, missing the rest of the series.In November 2010, BCB announced 16 central contracts. Rahim was one of six players in the top level. In December 2010, Tamim Iqbal replaced Rahim as Bangladesh's vice-captain.Rahim was included in Bangladesh's 15-man squad for the 2011 World Cup. Bangladesh were knocked out in the group stage and Rahim had a poor tournament personally. There were suggestions that he could be dropped, especially as fellow wicket-keeper Dhiman Ghosh was scoring heavily in Bangladesh's domestic competition. In August 2011, Mushfiqur hit 101 from 100 balls having his second century against Zimbabwe was not enough to stop Bangladesh losing the third one-day series by five runs.\n",
            "\n",
            "\n",
            "=== 2011–2018 ===\n",
            "On 20 September 2011, Rahim was named Bangladesh captain, taking over from Shakib Al Hasan after a disappointing tour of Zimbabwe. The announcement was made midway through the BCB Cup, a tournament involving the senior Bangladesh team, Bangladesh A, and a side made up of academy players. Rahim had already been captaining Bangladesh in the tournament on a temporary basis. The competition was won by Bangladesh A.In 2011, West Indies toured Bangladesh in October for a T20I, three ODIs, and two Tests. In his first international match as captain, Rahim produced a Man-of-the-Match performance, scoring 41 not out from 26 balls to help his team to victory. Desptire T20I win, Bangladesh lost the ODI series 2–1. Rahim was Bangladeshi's leading run-scorer with 100, including a fifty. The following month, Pakistan toured for three ODIs and two Tests. Bangladesh lost the ODI series 3–0, and Rahim managed just 12 runs from three innings.In the 2012 Asia Cup, under Rahim's captaincy, Bangladesh won two out of the three games they have played and reached the final for the first time where they lost to Pakistan. In April his grade A+ central contract was renewed. On 11 March 2013, during the first test of the tour of Sri Lanka in Galle, Rahim became the first Bangladeshi to score a double hundred, beating the previous highest of 190 set by Mohammed Ashraful earlier in the day.Rahim announced his resignation as captain on 8 May 2013, but a few days later Mushfiqur announced he had made a \"mistake\", and on 3 July 2013 the BCB announced they would be retaining Mushfiqur as captain until the end of the year.Rahim continued his captaincy in 2014 and lost to Sri Lanka in a home series. During the series, he suffered a finger injury for which he was replaced with Mohammad Mithun in wicket keeping. He also missed out the T20 international matches against Sri Lanka in which Mashrafe Mortaza took the job of captaincy. He scored his second one-day international century against India at the beginning of the 2014 Asia Cup but struggled in that match with his injury.In the next match against Afghanistan, Rahim continued his good form but Bangladesh lost the match by 32 runs, the first time they had lost to an associate team since gaining Test status. His team also lost the match against Pakistan in that same tournament even after scoring 326 which was their highest ODI score, courtesy of Shahid Afridi's knock. Later they lost to Sri Lanka in their last match of the series which made them lose all three matches.Bangladesh qualified for the super 10s in the 2014 ICC World Twenty20, by winning two of their three matches in the qualifying stage. But they were knocked out in the super 10s, having lost all the four matches.Bangladesh toured the West Indies in August 2014. During the first Test, Mushfiqur scored 116 in the second innings, picking up his third Test century. However, they lost all three ODIs and two Test matches.In September 2014, the BCB appointed Mortaza as the ODI captain, although Rahim retained the Test captaincy. In November 2014, Bangladesh whitewashed Zimbabwe in both the three Tests and five ODIs. He was also awarded the man of the series for the ODI matches.During the first Test against New Zealand at Basin Reserve in January 2017, Rahim was hit on the back of the helmet on the fifth day of match and immediately taken to hospital. The incident took place in the 43rd over of Bangladesh's second innings when Tim Southee bowled a bouncer that hit Rahim just behind left ear as he was trying to duck. Initial X-rays and scans to his neck suggested he was out of immediate danger. Rahim attended to the post match presentation after receiving treatment.In March 2017, during the second Test against Sri Lanka, Rahim took his 100th dismissal as a wicket-keeper. He became the first wicket-keeper for Bangladesh to reach this milestone.On 15 October 2017, during the first ODI against South Africa, Rahim became the first batsman for Bangladesh to score an international century against South Africa in any format.He was selected as wicket keeper in the Test XI of the year 2017 by Cricinfo.In November 2018, he scored 219 not out against Zimbabwe to become the first wicket-keeper–batsman to score two double centuries in Test cricket. His score of 219* is currently the highest individual score in a Test innings by a Bangladeshi batsman. Later the same month, against the West Indies, he became the second batsman for Bangladesh to score 4,000 runs in Tests.\n",
            "\n",
            "\n",
            "=== 2019 Cricket World Cup ===\n",
            "In April 2019, he was named in Bangladesh's squad for the 2019 Cricket World Cup. In the first innings of  Bangladesh's opening match in the World Cup, against South Africa, he and Shakib Al Hasan scored 142 runs for the third wicket, the highest partnership for any wicket for Bangladesh in a World Cup match. Bangladesh went on to score their highest total in an ODI match, finishing on 330/6 from their 50 overs.In Bangladesh's next match of the tournament, against New Zealand, Mushfiqur played in his 350th international match for Bangladesh.In the match against Australia, Mushfiqur scored his first century in Cricket World Cup. He scored 102* in 97 balls and became third Bangladeshi batsman to score a century in world cup.\n",
            "\n",
            "\n",
            "== See also ==\n",
            "List of international cricket centuries by Mushfiqur Rahim\n",
            "\n",
            "\n",
            "== References ==\n",
            "\n",
            "\n",
            "== External links ==\n",
            "Website\n",
            "Mushfiqur Rahim on Facebook\n",
            "Mushfiqur Rahim on Twitter\n",
            "Cricinfo player profile\n",
            "CricketArchive stats\n"
          ],
          "name": "stdout"
        }
      ]
    },
    {
      "cell_type": "code",
      "metadata": {
        "id": "drpnv3GkRozy",
        "colab_type": "code",
        "colab": {
          "base_uri": "https://localhost:8080/",
          "height": 853
        },
        "outputId": "513f8f23-9eef-4b4c-a492-5a60913f68fe"
      },
      "source": [
        "#spaCy is a library for advanced Natural Language Processing in Python\n",
        "import spacy\n",
        "import en_core_web_sm\n",
        "\n",
        "nlp = en_core_web_sm.load()\n",
        "doc = nlp(wiki_content)\n",
        "doc"
      ],
      "execution_count": 60,
      "outputs": [
        {
          "output_type": "execute_result",
          "data": {
            "text/plain": [
              "Mushfiqur Rahim (Bengali: মুশফিকুর রহিম; born 9 June 1987) is a Bangladeshi cricketer and the former captain of the Bangladesh national cricket team. Between August 2009 and December 2010 Rahim served as Bangladesh's vice-captain, across all formats. He was ranked as one of the world's most famous athletes by ESPN \"WORLD FAME 100\" in 2019. At domestic level he represents Rajshahi Division and captains Sylhet Super Stars. According to Jamie Siddons in 2010, the former coach of Bangladesh, Rahim's batting is so versatile that he can bat anywhere in the top order, from one to six.In November 2018, during the second Test against Zimbabwe, he became the first wicket-keeper to score two double centuries in Tests. He finished his innings on 219 not out, the highest individual score by a Bangladesh batsman in Test cricket. He faced 421 balls and spent 589 minutes at the crease during the innings, a record for a Bangladesh batsman in a Test innings. Later the same month, against the West Indies, he became the second batsman for Bangladesh to score 4,000 runs in Tests. He holds the record for highest score by a test Bangladesh batsman.\n",
              "\n",
              "\n",
              "== Personal life ==\n",
              "Mushfiqur Rahim was born on 9 June 1987 in Bogra, Bangladesh. His parents are Mahbub Habib and Rahima Khatun. He finished his secondary schooling at Bogra Zilla School. In between playing cricket, he studied history at the Jahangirnagar University. He sat his master's degree examinations in 2012.Now he is a PhD researcher in the same University. Rahim is the biggest fan of Spanish football team FC Barcelona.\n",
              "\n",
              "\n",
              "== Early career ==\n",
              "Before playing for the national team, Rahim played for Bangladesh Under-19s. He represented them in three Youth Tests and 18 Youth One Day Internationals (ODIs) between 2004 and 2006, averaging 31.75 and 36.00 with the bat in the respective formats. Rahim trained at the Bangladesh Institute of Sports.\n",
              "\n",
              "During the 2006 U-19 Cricket World Cup, hosted by Sri Lanka in February, Rahim captained the Bangladesh side which included future international players Shakib Al Hasan and Tamim Iqbal among others. Rahim was one of two players at the tournament with Test-match experience. Under his guidance Bangladesh reached the quarter finals of the tournament. Later that month Rahim was recalled to the senior Test squad for the first time since the England tour in 2005. He was selected as a specialist batsmen, with Khaled Mashud chosen as the wicket-keeper for the series against Sri Lanka.\n",
              "\n",
              "\n",
              "== Domestic and T20 franchise career ==\n",
              "In December 2010, Rahim recorded his best score in a one-day match. Playing for Rajshahi in the National Cricket League, he scored 114 from 120 deliveries as his team lost by 8 runs.The Bangladesh Cricket Board founded the six-team Bangladesh Premier League in 2012, a twenty20 tournament to be held in February that year. The BCB made Mushfiq the 'icon player' for Duronto Rajshahi. Under his leadership Duronto overcame a weak start to progress to the semi-finals where they lost to Barisal Burners; Rahim contributed 234 runs from 11 matches.In September 2018, he was named in Nangarhar's squad in the first edition of the Afghanistan Premier League tournament.In October 2018, he was named in the squad for the Chittagong Vikings team, following the draft for the 2018–19 Bangladesh Premier League. He was the leading run-scorer for the team in the tournament, with 426 runs in thirteen matches. In November 2019, he was selected to play for the Khulna Tigers in the 2019–20 Bangladesh Premier League.\n",
              "\n",
              "\n",
              "== International career ==\n",
              "Rahim was selected for Bangladesh's tour of England in 2005. It was Bangladesh's first tour of England, where they faced unfamiliar conditions and the batsmen struggled against seam bowling and uneven bounce throughout the series. Mushfiqur adapted his batting style in the warm up matches, \"consistently playing late and straight\" according to Wisden, and managed to score 63 against Sussex and scored 115 not out against Northamptonshire in the warm up matches.Although initially named in the squad as a part-time wicket-keeper, his performances in the warm up matches led to his selection for the first Test at Lord's as a specialist batsman as well. The 17-year-old Rahim scored 19 in the first innings and was one of just three batsman to reach double figures as Bangladesh were dismissed for 108. After twisting his ankle, he did not play any further in the tour.Rahim was included in Bangladesh's squad to tour Zimbabwe for five ODIs in 2006. He was one of three uncapped ODI players included in the squad alongside all-rounders Farhad Reza and Shakib Al Hasan. He scored his maiden half-century at Harare against Zimbabwe.His good performances led him to picked as the first-choice wicket-keeper ahead of Khaled Mashud for the World Cup in the West Indies.Rahim was recalled for the second Test against Sri Lanka in July 2007, replacing Mashud. Although Bangladesh lost by an innings and 90 runs, Rahim combined with Mohammad Ashraful – the new captain – to score a record 191 for Bangladesh's sixth-wicket partnership. In December 2007, the Bangladesh Cricket Board (BCB) granted Rahim a one-year grade B (third tier) contract, one of 22 central contracts with the Board at the time.Following the 2007 ICC Cricket World Cup, Rahim endured a series of poor scores, including five innings in which he amassed four runs altogether. As a result, when South Africa toured in March for three ODIs and Bangladesh went to Pakistan for five ODIs the next month, Rahim was dropped in favour of Dhiman Ghosh.Rahim was recalled to the squad for a tri-series with Pakistan and India and the 2008 Asia Cup. When 17 contracts were announced in April 2009, Rahim's was renewed, marking Rahim as Bangladesh's first choice 'keeper.\n",
              "\n",
              "\n",
              "=== Vice-captaincy ===\n",
              "Rahim was appointed vice-captain for Bangladesh's tour of Zimbabwe in August 2009. The position was vacated as the previous holder, Shakib Al Hasan, was filling-in as captain for the injured Mashrafe Mortaza. Bangladesh won the five match ODI series 4–1. In the final ODI, Rahim scored 98, beating his previous highest score in list A matches of 58, to help his team to victory. With 169 runs in the series at an average of 56.33, Rahim finishes the tour as Bangladesh's fourth-highest run scorer.\n",
              "\n",
              "Rahim retained the vice-captaincy for the home Test series against India in January and February 2010. On 21 January, in the fifth day of the first Test, he scored his maiden Test century and the fastest by a Bangladeshi in Test cricket, off only 112 balls as Bangladesh delayed an Indian victory, being the last man out as India won by 113 runs. England toured Bangladesh in February and March for two Tests and three ODIs, where Bangladesh lost all two formats. In the series, Rahim was his team's second-highest run-scorer. He scored two half-centuries in the first Test, becoming the 6th Bangladesh batsman to perform the feat.Having impressed at home, Rahim's performance in the return tour in England in May was expected to be crucial for the rankings. In the tour, Rahim could managed 40 runs from two Tests as Bangladesh's batsmen struggled in English conditions and slumped to a 2–0 defeat. In the first ODI of the tour Rahim was struck in the face while keeping wicket to spinner Faisal Hossain. An x-ray revealed no fractures, however as a precaution he was rested for a week, missing the rest of the series.In November 2010, BCB announced 16 central contracts. Rahim was one of six players in the top level. In December 2010, Tamim Iqbal replaced Rahim as Bangladesh's vice-captain.Rahim was included in Bangladesh's 15-man squad for the 2011 World Cup. Bangladesh were knocked out in the group stage and Rahim had a poor tournament personally. There were suggestions that he could be dropped, especially as fellow wicket-keeper Dhiman Ghosh was scoring heavily in Bangladesh's domestic competition. In August 2011, Mushfiqur hit 101 from 100 balls having his second century against Zimbabwe was not enough to stop Bangladesh losing the third one-day series by five runs.\n",
              "\n",
              "\n",
              "=== 2011–2018 ===\n",
              "On 20 September 2011, Rahim was named Bangladesh captain, taking over from Shakib Al Hasan after a disappointing tour of Zimbabwe. The announcement was made midway through the BCB Cup, a tournament involving the senior Bangladesh team, Bangladesh A, and a side made up of academy players. Rahim had already been captaining Bangladesh in the tournament on a temporary basis. The competition was won by Bangladesh A.In 2011, West Indies toured Bangladesh in October for a T20I, three ODIs, and two Tests. In his first international match as captain, Rahim produced a Man-of-the-Match performance, scoring 41 not out from 26 balls to help his team to victory. Desptire T20I win, Bangladesh lost the ODI series 2–1. Rahim was Bangladeshi's leading run-scorer with 100, including a fifty. The following month, Pakistan toured for three ODIs and two Tests. Bangladesh lost the ODI series 3–0, and Rahim managed just 12 runs from three innings.In the 2012 Asia Cup, under Rahim's captaincy, Bangladesh won two out of the three games they have played and reached the final for the first time where they lost to Pakistan. In April his grade A+ central contract was renewed. On 11 March 2013, during the first test of the tour of Sri Lanka in Galle, Rahim became the first Bangladeshi to score a double hundred, beating the previous highest of 190 set by Mohammed Ashraful earlier in the day.Rahim announced his resignation as captain on 8 May 2013, but a few days later Mushfiqur announced he had made a \"mistake\", and on 3 July 2013 the BCB announced they would be retaining Mushfiqur as captain until the end of the year.Rahim continued his captaincy in 2014 and lost to Sri Lanka in a home series. During the series, he suffered a finger injury for which he was replaced with Mohammad Mithun in wicket keeping. He also missed out the T20 international matches against Sri Lanka in which Mashrafe Mortaza took the job of captaincy. He scored his second one-day international century against India at the beginning of the 2014 Asia Cup but struggled in that match with his injury.In the next match against Afghanistan, Rahim continued his good form but Bangladesh lost the match by 32 runs, the first time they had lost to an associate team since gaining Test status. His team also lost the match against Pakistan in that same tournament even after scoring 326 which was their highest ODI score, courtesy of Shahid Afridi's knock. Later they lost to Sri Lanka in their last match of the series which made them lose all three matches.Bangladesh qualified for the super 10s in the 2014 ICC World Twenty20, by winning two of their three matches in the qualifying stage. But they were knocked out in the super 10s, having lost all the four matches.Bangladesh toured the West Indies in August 2014. During the first Test, Mushfiqur scored 116 in the second innings, picking up his third Test century. However, they lost all three ODIs and two Test matches.In September 2014, the BCB appointed Mortaza as the ODI captain, although Rahim retained the Test captaincy. In November 2014, Bangladesh whitewashed Zimbabwe in both the three Tests and five ODIs. He was also awarded the man of the series for the ODI matches.During the first Test against New Zealand at Basin Reserve in January 2017, Rahim was hit on the back of the helmet on the fifth day of match and immediately taken to hospital. The incident took place in the 43rd over of Bangladesh's second innings when Tim Southee bowled a bouncer that hit Rahim just behind left ear as he was trying to duck. Initial X-rays and scans to his neck suggested he was out of immediate danger. Rahim attended to the post match presentation after receiving treatment.In March 2017, during the second Test against Sri Lanka, Rahim took his 100th dismissal as a wicket-keeper. He became the first wicket-keeper for Bangladesh to reach this milestone.On 15 October 2017, during the first ODI against South Africa, Rahim became the first batsman for Bangladesh to score an international century against South Africa in any format.He was selected as wicket keeper in the Test XI of the year 2017 by Cricinfo.In November 2018, he scored 219 not out against Zimbabwe to become the first wicket-keeper–batsman to score two double centuries in Test cricket. His score of 219* is currently the highest individual score in a Test innings by a Bangladeshi batsman. Later the same month, against the West Indies, he became the second batsman for Bangladesh to score 4,000 runs in Tests.\n",
              "\n",
              "\n",
              "=== 2019 Cricket World Cup ===\n",
              "In April 2019, he was named in Bangladesh's squad for the 2019 Cricket World Cup. In the first innings of  Bangladesh's opening match in the World Cup, against South Africa, he and Shakib Al Hasan scored 142 runs for the third wicket, the highest partnership for any wicket for Bangladesh in a World Cup match. Bangladesh went on to score their highest total in an ODI match, finishing on 330/6 from their 50 overs.In Bangladesh's next match of the tournament, against New Zealand, Mushfiqur played in his 350th international match for Bangladesh.In the match against Australia, Mushfiqur scored his first century in Cricket World Cup. He scored 102* in 97 balls and became third Bangladeshi batsman to score a century in world cup.\n",
              "\n",
              "\n",
              "== See also ==\n",
              "List of international cricket centuries by Mushfiqur Rahim\n",
              "\n",
              "\n",
              "== References ==\n",
              "\n",
              "\n",
              "== External links ==\n",
              "Website\n",
              "Mushfiqur Rahim on Facebook\n",
              "Mushfiqur Rahim on Twitter\n",
              "Cricinfo player profile\n",
              "CricketArchive stats"
            ]
          },
          "metadata": {
            "tags": []
          },
          "execution_count": 60
        }
      ]
    },
    {
      "cell_type": "code",
      "metadata": {
        "id": "5CLLKxVAEVg-",
        "colab_type": "code",
        "colab": {}
      },
      "source": [
        "#save the wiki content to a file\n",
        "f = open(\"wikicontent.txt\", \"w\")\n",
        "f.write(wiki_content)\n",
        "f.close()\n",
        "#print(f)"
      ],
      "execution_count": 0,
      "outputs": []
    },
    {
      "cell_type": "code",
      "metadata": {
        "id": "Ghh3z0M5RANi",
        "colab_type": "code",
        "colab": {
          "base_uri": "https://localhost:8080/",
          "height": 54
        },
        "outputId": "3c45a3df-c2bf-49c1-920e-9af0c7ed2dc5"
      },
      "source": [
        "\n",
        "summary_content = summarize_corpus(wiki_content, ratio= 0.05)\n",
        "print(summary_content)"
      ],
      "execution_count": 75,
      "outputs": [
        {
          "output_type": "stream",
          "text": [
            "[['('], ['('], ['('], ['('], ['A'], ['A'], ['A'], ['A'], ['A'], ['A'], ['A'], ['A'], ['A'], ['A'], ['A'], ['A'], ['A'], ['A'], ['A'], ['A'], ['A'], ['A'], ['A'], ['A'], ['A'], ['A'], ['A'], ['A'], ['A'], ['A'], ['A'], ['A'], ['A'], ['A'], ['A'], ['A'], ['A'], ['A'], ['A'], ['A'], ['A'], ['A'], ['f'], ['d'], ['d'], ['f'], ['p'], ['f'], ['d'], ['d'], ['d'], ['d'], ['p'], ['f'], ['d'], ['f'], ['d'], ['f'], ['P'], ['O'], ['d'], ['p'], ['d'], ['p'], ['p'], ['d'], ['d'], ['d'], ['f'], ['f'], ['d'], ['p'], ['d'], ['f'], ['d'], ['d'], ['f'], ['p'], ['d'], ['f'], ['d'], ['d'], ['d'], ['d'], ['f'], ['d'], ['d'], ['p'], ['d'], ['d'], ['f'], ['d'], ['d'], ['d'], ['f'], ['d'], ['d'], ['d'], ['f'], ['d'], ['P'], ['f'], ['f'], ['d'], ['p'], ['d'], ['f'], ['d'], ['d'], ['p'], ['d'], ['d'], ['d'], ['P'], ['f'], ['f'], ['p'], ['f'], ['f'], ['p'], ['f'], ['p'], ['d'], ['f'], ['d'], ['d'], ['p'], ['d'], ['d'], ['O'], ['O'], ['d'], ['d'], ['p'], ['f'], ['d'], ['d'], ['f'], ['p'], ['d'], ['p'], ['d'], ['p'], ['d'], ['d'], ['d'], ['d'], ['d'], ['f'], ['p'], ['d'], ['f'], ['p'], ['p'], ['d'], ['d'], ['d'], ['d'], ['f'], ['f'], ['d'], ['d'], ['f'], ['f'], ['d'], ['d'], ['p'], ['d'], ['d'], ['p'], ['f'], ['d'], ['f'], ['d'], ['d'], ['d'], ['P'], ['f'], ['d'], ['f'], ['d'], ['d'], ['d'], ['f'], ['d'], ['d'], ['d'], ['P'], ['d'], ['d'], ['f'], ['p'], ['f'], ['d'], ['d'], ['p'], ['p'], ['f'], ['d'], ['f'], ['p'], ['d'], ['d'], ['f'], ['d'], ['f'], ['f'], ['P'], ['O'], ['d'], ['d'], ['f'], ['f'], ['d'], ['f'], ['f'], ['d'], ['P'], ['d'], ['f'], ['d'], ['p'], ['f'], ['d'], ['P'], ['d'], ['f'], ['d'], ['f'], ['d'], ['d'], ['f'], ['f'], ['d'], ['f'], ['d'], ['f'], ['d'], ['d'], ['d'], ['d'], ['f'], ['d'], ['p'], ['d'], ['p'], ['p'], ['d'], ['d'], ['d'], ['d'], ['d'], ['d'], ['d'], ['p'], ['p'], ['d'], ['d'], ['p'], ['p'], ['p'], ['f'], ['p'], ['d'], ['f'], ['f'], ['d'], ['p'], ['d'], ['d'], ['f'], ['d'], ['f'], ['d'], ['f'], ['d'], ['d'], ['d'], ['f'], ['f'], ['d'], ['d'], ['p'], ['f'], ['d'], ['d'], ['d'], ['d'], ['f'], ['f'], ['O'], ['f'], ['p'], ['p'], ['d'], ['O'], ['p'], ['d'], ['d'], ['d'], ['d'], ['d'], ['d'], ['d'], ['d'], ['d'], ['f'], ['d'], ['p'], ['f'], ['d'], ['p'], ['d'], ['f'], ['p'], ['d'], ['f'], ['d'], ['d'], ['f'], ['d'], ['p'], ['d'], ['d'], ['f'], ['d'], ['p'], ['d'], ['d'], ['d'], ['d'], ['d'], ['f'], ['p'], ['d'], ['f'], ['d'], ['p'], ['p'], ['d'], ['d'], ['d'], ['d'], ['d'], ['f'], ['d'], ['d'], ['p'], ['d'], ['d'], ['f'], ['p'], ['d'], ['f'], ['d'], ['f'], ['f'], ['d'], ['f'], ['O'], ['d'], ['d'], ['P'], ['f'], ['f'], ['O'], ['d'], ['p'], ['p'], ['d'], ['f'], ['f'], ['d'], ['d'], ['f'], ['P'], ['d'], ['d'], ['d'], ['p'], ['d'], ['p'], ['d'], ['d'], ['f'], ['p'], ['p'], ['p'], ['p'], ['d'], ['p'], ['f'], ['d'], ['f'], ['p'], ['d'], ['p'], ['d'], ['f'], ['p'], ['f'], ['d'], ['f'], ['d'], ['f'], ['O'], ['f'], ['O'], ['d'], ['p'], ['f'], ['p'], ['f'], ['f'], ['d'], ['f'], ['d'], ['p'], ['f'], ['d'], ['d'], ['O'], ['f'], ['f'], ['d'], ['f'], ['f'], ['d'], ['d'], ['d'], ['f'], ['d'], ['f'], ['f'], ['d'], ['d'], ['d'], ['d'], ['d'], ['d'], ['d'], ['d'], ['d'], ['f'], ['d'], ['O'], ['d'], ['f'], ['d'], ['d'], ['f'], ['f'], ['d'], ['p'], ['f'], ['f'], ['p'], ['d'], ['p'], ['f'], ['d'], ['p'], ['d'], ['f'], ['d'], ['d'], ['f'], ['d'], ['d'], ['d'], ['d'], ['p'], ['d'], ['d'], ['f'], ['f'], ['O'], ['f'], ['f'], ['p'], ['p'], ['d'], ['f'], ['p'], ['d'], ['f'], ['f'], ['d'], ['f'], ['p'], ['p'], ['p'], ['d'], ['d'], ['p'], ['d'], ['d'], ['d'], ['d'], ['f'], ['d'], ['p'], ['d'], ['d'], ['p'], ['d'], ['d'], ['p'], ['p'], ['d'], ['d'], ['p'], ['p'], ['d'], ['p'], ['f'], ['p'], ['d'], ['d'], ['p'], ['f'], ['f'], ['d'], ['p'], ['d'], ['d'], ['d'], ['f'], ['O'], ['p'], ['d'], ['d'], ['p'], ['f'], ['f'], ['d'], ['p'], ['p'], ['f'], ['d'], ['d'], ['p'], ['d'], ['d'], ['d'], ['d'], ['d'], ['p'], ['f'], ['d'], ['p'], ['d'], ['d'], ['p'], ['d'], ['p'], ['p'], ['d'], ['d'], ['d'], ['d'], ['O'], ['f'], ['O'], ['d'], ['f'], ['p'], ['p'], ['d'], ['d'], ['f'], ['p'], ['f'], ['f'], ['p'], ['p'], ['d'], ['O'], ['d'], ['d'], ['d'], ['f'], ['f'], ['f'], ['P'], ['d'], ['f'], ['O'], ['d'], ['d'], ['O'], ['d'], ['d'], ['f'], ['p'], ['d'], ['p'], ['d'], ['f'], ['p'], ['d'], ['d'], ['d'], ['f'], ['f'], ['f'], ['P'], ['p'], ['d'], ['d'], ['O'], ['d'], ['f'], ['f'], ['f'], ['f'], ['d'], ['d'], ['d'], ['d'], ['p'], ['f'], ['d'], ['f'], ['d'], ['d'], ['p'], ['f'], ['d'], ['f'], ['d'], ['d'], ['d'], ['d'], ['d'], ['d'], ['f'], ['p'], ['d'], ['f'], ['d'], ['p'], ['d'], ['f'], ['f'], ['d'], ['f'], ['f'], ['p'], ['d'], ['d'], ['p'], ['d'], ['f'], ['f'], ['p'], ['d'], ['d'], ['d'], ['d'], ['f'], ['p'], ['d'], ['f'], ['d'], ['d'], ['f'], ['d'], ['f'], ['d'], ['P'], ['f'], ['O'], ['f'], ['d'], ['f'], ['d'], ['f'], ['d'], ['d']]\n"
          ],
          "name": "stdout"
        }
      ]
    },
    {
      "cell_type": "code",
      "metadata": {
        "id": "_4lX3ADsTpn6",
        "colab_type": "code",
        "colab": {
          "base_uri": "https://localhost:8080/",
          "height": 105
        },
        "outputId": "696d8d7e-4f22-4b12-b8ce-4578f4dbbca5"
      },
      "source": [
        "# Summary [0.5% of the original content]\n",
        "summary_ = summarize(wiki_content, ratio= 0.05)\n",
        "print(summary_)"
      ],
      "execution_count": 83,
      "outputs": [
        {
          "output_type": "stream",
          "text": [
            "During the 2006 U-19 Cricket World Cup, hosted by Sri Lanka in February, Rahim captained the Bangladesh side which included future international players Shakib Al Hasan and Tamim Iqbal among others.\n",
            "He scored his maiden half-century at Harare against Zimbabwe.His good performances led him to picked as the first-choice wicket-keeper ahead of Khaled Mashud for the World Cup in the West Indies.Rahim was recalled for the second Test against Sri Lanka in July 2007, replacing Mashud.\n",
            "In December 2007, the Bangladesh Cricket Board (BCB) granted Rahim a one-year grade B (third tier) contract, one of 22 central contracts with the Board at the time.Following the 2007 ICC Cricket World Cup, Rahim endured a series of poor scores, including five innings in which he amassed four runs altogether.\n",
            "He scored his second one-day international century against India at the beginning of the 2014 Asia Cup but struggled in that match with his injury.In the next match against Afghanistan, Rahim continued his good form but Bangladesh lost the match by 32 runs, the first time they had lost to an associate team since gaining Test status.\n"
          ],
          "name": "stdout"
        }
      ]
    },
    {
      "cell_type": "code",
      "metadata": {
        "id": "UkHkCl37WM0y",
        "colab_type": "code",
        "colab": {
          "base_uri": "https://localhost:8080/",
          "height": 54
        },
        "outputId": "b339a5e7-685b-4317-dc40-a915aa36a1d0"
      },
      "source": [
        "# Summary [200 words]\n",
        "summary_words = summarize(wiki_content, word_count= 200)\n",
        "summary_words"
      ],
      "execution_count": 84,
      "outputs": [
        {
          "output_type": "execute_result",
          "data": {
            "text/plain": [
              "'During the 2006 U-19 Cricket World Cup, hosted by Sri Lanka in February, Rahim captained the Bangladesh side which included future international players Shakib Al Hasan and Tamim Iqbal among others.\\nHe scored his maiden half-century at Harare against Zimbabwe.His good performances led him to picked as the first-choice wicket-keeper ahead of Khaled Mashud for the World Cup in the West Indies.Rahim was recalled for the second Test against Sri Lanka in July 2007, replacing Mashud.\\nIn December 2007, the Bangladesh Cricket Board (BCB) granted Rahim a one-year grade B (third tier) contract, one of 22 central contracts with the Board at the time.Following the 2007 ICC Cricket World Cup, Rahim endured a series of poor scores, including five innings in which he amassed four runs altogether.\\nHe scored his second one-day international century against India at the beginning of the 2014 Asia Cup but struggled in that match with his injury.In the next match against Afghanistan, Rahim continued his good form but Bangladesh lost the match by 32 runs, the first time they had lost to an associate team since gaining Test status.'"
            ]
          },
          "metadata": {
            "tags": []
          },
          "execution_count": 84
        }
      ]
    }
  ]
}